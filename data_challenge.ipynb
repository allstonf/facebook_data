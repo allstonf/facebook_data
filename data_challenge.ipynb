{
 "cells": [
  {
   "cell_type": "code",
   "execution_count": 1,
   "metadata": {
    "colab": {},
    "colab_type": "code",
    "id": "TXNsD_itFknJ"
   },
   "outputs": [],
   "source": [
    "import pandas as pd"
   ]
  },
  {
   "cell_type": "code",
   "execution_count": 2,
   "metadata": {
    "colab": {
     "base_uri": "https://localhost:8080/",
     "height": 370
    },
    "colab_type": "code",
    "executionInfo": {
     "elapsed": 450,
     "status": "error",
     "timestamp": 1556927961140,
     "user": {
      "displayName": "Allston Fojas",
      "photoUrl": "",
      "userId": "14191576482515900840"
     },
     "user_tz": 420
    },
    "id": "MB8PcMJFFknV",
    "outputId": "5a019c64-8bed-4cc8-c4d5-391395e5c43b"
   },
   "outputs": [
    {
     "name": "stderr",
     "output_type": "stream",
     "text": [
      "C:\\Users\\redwa\\Anaconda3\\lib\\site-packages\\IPython\\core\\interactiveshell.py:2728: DtypeWarning: Columns (9) have mixed types.Specify dtype option on import or set low_memory=False.\n",
      "  interactivity=interactivity, compiler=compiler, result=result)\n"
     ]
    }
   ],
   "source": [
    "data_df = pd.read_csv('sf_business_cleaned.csv')"
   ]
  },
  {
   "cell_type": "code",
   "execution_count": 4,
   "metadata": {
    "colab": {},
    "colab_type": "code",
    "id": "aQ09vjYpFknh"
   },
   "outputs": [
    {
     "data": {
      "text/html": [
       "<div>\n",
       "<style scoped>\n",
       "    .dataframe tbody tr th:only-of-type {\n",
       "        vertical-align: middle;\n",
       "    }\n",
       "\n",
       "    .dataframe tbody tr th {\n",
       "        vertical-align: top;\n",
       "    }\n",
       "\n",
       "    .dataframe thead th {\n",
       "        text-align: right;\n",
       "    }\n",
       "</style>\n",
       "<table border=\"1\" class=\"dataframe\">\n",
       "  <thead>\n",
       "    <tr style=\"text-align: right;\">\n",
       "      <th></th>\n",
       "      <th>owner_number</th>\n",
       "      <th>business_number</th>\n",
       "      <th>location_number</th>\n",
       "      <th>owner_name</th>\n",
       "      <th>business_name</th>\n",
       "      <th>street_address</th>\n",
       "      <th>city</th>\n",
       "      <th>state</th>\n",
       "      <th>zipcode</th>\n",
       "      <th>latlong</th>\n",
       "      <th>neighborhood</th>\n",
       "      <th>business_start</th>\n",
       "      <th>business_end</th>\n",
       "      <th>location_start</th>\n",
       "      <th>location_end</th>\n",
       "      <th>naics_code</th>\n",
       "      <th>lic_code</th>\n",
       "      <th>parking_tax</th>\n",
       "      <th>transient_occupancy_tax</th>\n",
       "    </tr>\n",
       "  </thead>\n",
       "  <tbody>\n",
       "    <tr>\n",
       "      <th>0</th>\n",
       "      <td>28.0</td>\n",
       "      <td>1</td>\n",
       "      <td>1</td>\n",
       "      <td>Ferrando Louise</td>\n",
       "      <td>3101 Laguna Apts</td>\n",
       "      <td>3101 Laguna St</td>\n",
       "      <td>san francisco</td>\n",
       "      <td>CA</td>\n",
       "      <td>94123.0</td>\n",
       "      <td>(37.799823, -122.430996)</td>\n",
       "      <td>Marina</td>\n",
       "      <td>1993-09-30</td>\n",
       "      <td>NaN</td>\n",
       "      <td>1993-09-30</td>\n",
       "      <td>NaN</td>\n",
       "      <td>Real Estate and Rental and Leasing Services</td>\n",
       "      <td>NaN</td>\n",
       "      <td>False</td>\n",
       "      <td>False</td>\n",
       "    </tr>\n",
       "    <tr>\n",
       "      <th>1</th>\n",
       "      <td>52.0</td>\n",
       "      <td>1</td>\n",
       "      <td>1</td>\n",
       "      <td>Ideal Novak Corp</td>\n",
       "      <td>Ideal Novak Corp</td>\n",
       "      <td>8 Mendosa Ave</td>\n",
       "      <td>san francisco</td>\n",
       "      <td>CA</td>\n",
       "      <td>94116.0</td>\n",
       "      <td>(37.748926, -122.465074)</td>\n",
       "      <td>West of Twin Peaks</td>\n",
       "      <td>1968-10-01</td>\n",
       "      <td>NaN</td>\n",
       "      <td>1968-10-01</td>\n",
       "      <td>NaN</td>\n",
       "      <td>Real Estate and Rental and Leasing Services</td>\n",
       "      <td>NaN</td>\n",
       "      <td>False</td>\n",
       "      <td>False</td>\n",
       "    </tr>\n",
       "    <tr>\n",
       "      <th>2</th>\n",
       "      <td>71.0</td>\n",
       "      <td>1</td>\n",
       "      <td>1</td>\n",
       "      <td>Tournahu George L</td>\n",
       "      <td>Tournahu Arms</td>\n",
       "      <td>1842 Jefferson St</td>\n",
       "      <td>san francisco</td>\n",
       "      <td>CA</td>\n",
       "      <td>94123.0</td>\n",
       "      <td>(37.804734, -122.442997)</td>\n",
       "      <td>NaN</td>\n",
       "      <td>1968-10-01</td>\n",
       "      <td>NaN</td>\n",
       "      <td>1968-10-01</td>\n",
       "      <td>2013-12-31</td>\n",
       "      <td>Real Estate and Rental and Leasing Services</td>\n",
       "      <td>NaN</td>\n",
       "      <td>False</td>\n",
       "      <td>False</td>\n",
       "    </tr>\n",
       "    <tr>\n",
       "      <th>3</th>\n",
       "      <td>71.0</td>\n",
       "      <td>2</td>\n",
       "      <td>1</td>\n",
       "      <td>Tournahu George L</td>\n",
       "      <td>3301 Broderick Apartments</td>\n",
       "      <td>3301 Broderick St</td>\n",
       "      <td>san francisco</td>\n",
       "      <td>CA</td>\n",
       "      <td>94123.0</td>\n",
       "      <td>(37.800876, -122.444757)</td>\n",
       "      <td>Marina</td>\n",
       "      <td>1968-10-01</td>\n",
       "      <td>NaN</td>\n",
       "      <td>1988-05-01</td>\n",
       "      <td>2013-12-31</td>\n",
       "      <td>Real Estate and Rental and Leasing Services</td>\n",
       "      <td>NaN</td>\n",
       "      <td>False</td>\n",
       "      <td>False</td>\n",
       "    </tr>\n",
       "    <tr>\n",
       "      <th>4</th>\n",
       "      <td>71.0</td>\n",
       "      <td>3</td>\n",
       "      <td>1</td>\n",
       "      <td>Tournahu George L</td>\n",
       "      <td>1840-42 Jefferson St</td>\n",
       "      <td>1840 Jefferson St #42</td>\n",
       "      <td>san francisco</td>\n",
       "      <td>CA</td>\n",
       "      <td>94123.0</td>\n",
       "      <td>(37.804759, -122.442794)</td>\n",
       "      <td>NaN</td>\n",
       "      <td>1968-10-01</td>\n",
       "      <td>NaN</td>\n",
       "      <td>1991-10-07</td>\n",
       "      <td>NaN</td>\n",
       "      <td>Real Estate and Rental and Leasing Services</td>\n",
       "      <td>NaN</td>\n",
       "      <td>True</td>\n",
       "      <td>False</td>\n",
       "    </tr>\n",
       "  </tbody>\n",
       "</table>\n",
       "</div>"
      ],
      "text/plain": [
       "   owner_number  business_number  location_number         owner_name  \\\n",
       "0          28.0                1                1    Ferrando Louise   \n",
       "1          52.0                1                1   Ideal Novak Corp   \n",
       "2          71.0                1                1  Tournahu George L   \n",
       "3          71.0                2                1  Tournahu George L   \n",
       "4          71.0                3                1  Tournahu George L   \n",
       "\n",
       "               business_name         street_address           city state  \\\n",
       "0           3101 Laguna Apts         3101 Laguna St  san francisco    CA   \n",
       "1           Ideal Novak Corp          8 Mendosa Ave  san francisco    CA   \n",
       "2              Tournahu Arms      1842 Jefferson St  san francisco    CA   \n",
       "3  3301 Broderick Apartments      3301 Broderick St  san francisco    CA   \n",
       "4       1840-42 Jefferson St  1840 Jefferson St #42  san francisco    CA   \n",
       "\n",
       "   zipcode                   latlong        neighborhood business_start  \\\n",
       "0  94123.0  (37.799823, -122.430996)              Marina     1993-09-30   \n",
       "1  94116.0  (37.748926, -122.465074)  West of Twin Peaks     1968-10-01   \n",
       "2  94123.0  (37.804734, -122.442997)                 NaN     1968-10-01   \n",
       "3  94123.0  (37.800876, -122.444757)              Marina     1968-10-01   \n",
       "4  94123.0  (37.804759, -122.442794)                 NaN     1968-10-01   \n",
       "\n",
       "  business_end location_start location_end  \\\n",
       "0          NaN     1993-09-30          NaN   \n",
       "1          NaN     1968-10-01          NaN   \n",
       "2          NaN     1968-10-01   2013-12-31   \n",
       "3          NaN     1988-05-01   2013-12-31   \n",
       "4          NaN     1991-10-07          NaN   \n",
       "\n",
       "                                    naics_code lic_code  parking_tax  \\\n",
       "0  Real Estate and Rental and Leasing Services      NaN        False   \n",
       "1  Real Estate and Rental and Leasing Services      NaN        False   \n",
       "2  Real Estate and Rental and Leasing Services      NaN        False   \n",
       "3  Real Estate and Rental and Leasing Services      NaN        False   \n",
       "4  Real Estate and Rental and Leasing Services      NaN         True   \n",
       "\n",
       "   transient_occupancy_tax  \n",
       "0                    False  \n",
       "1                    False  \n",
       "2                    False  \n",
       "3                    False  \n",
       "4                    False  "
      ]
     },
     "execution_count": 4,
     "metadata": {},
     "output_type": "execute_result"
    }
   ],
   "source": [
    "data_df.head()"
   ]
  },
  {
   "cell_type": "code",
   "execution_count": 5,
   "metadata": {
    "colab": {},
    "colab_type": "code",
    "id": "it0_GckDFknn"
   },
   "outputs": [
    {
     "data": {
      "text/plain": [
       "owner_number               float64\n",
       "business_number              int64\n",
       "location_number              int64\n",
       "owner_name                  object\n",
       "business_name               object\n",
       "street_address              object\n",
       "city                        object\n",
       "state                       object\n",
       "zipcode                    float64\n",
       "latlong                     object\n",
       "neighborhood                object\n",
       "business_start              object\n",
       "business_end                object\n",
       "location_start              object\n",
       "location_end                object\n",
       "naics_code                  object\n",
       "lic_code                    object\n",
       "parking_tax                   bool\n",
       "transient_occupancy_tax       bool\n",
       "dtype: object"
      ]
     },
     "execution_count": 5,
     "metadata": {},
     "output_type": "execute_result"
    }
   ],
   "source": [
    "data_df.dtypes"
   ]
  },
  {
   "cell_type": "code",
   "execution_count": 0,
   "metadata": {
    "colab": {},
    "colab_type": "code",
    "id": "HoMTR4aLFknt"
   },
   "outputs": [],
   "source": []
  }
 ],
 "metadata": {
  "colab": {
   "name": "data_challenge.ipynb",
   "provenance": [],
   "version": "0.3.2"
  },
  "kernelspec": {
   "display_name": "Python 3",
   "language": "python",
   "name": "python3"
  },
  "language_info": {
   "codemirror_mode": {
    "name": "ipython",
    "version": 3
   },
   "file_extension": ".py",
   "mimetype": "text/x-python",
   "name": "python",
   "nbconvert_exporter": "python",
   "pygments_lexer": "ipython3",
   "version": "3.6.7"
  }
 },
 "nbformat": 4,
 "nbformat_minor": 1
}
